{
 "cells": [
  {
   "cell_type": "code",
   "execution_count": 32,
   "metadata": {},
   "outputs": [],
   "source": [
    "from keras.models import load_model\n",
    "import pandas as pd\n",
    "import numpy as np\n",
    "from PIL import Image,ImageOps\n",
    "import matplotlib.pyplot as plt\n",
    "from matplotlib.pyplot import figure\n",
    "import matplotlib.patches as mpatches\n",
    "import os\n",
    "import shutil\n",
    "import cv2\n",
    "import string\n",
    "import sys"
   ]
  },
  {
   "cell_type": "code",
   "execution_count": 33,
   "metadata": {},
   "outputs": [],
   "source": [
    "INPUT_IMAGE = './input/input_8.jpg'                                  #Load input images\n",
    "SEGMENTED_OUTPUT_DIR = './segmented/'                                #Directory for segmented images output\n",
    "EMNIST_PATH = './data/emnist/'                                       \n",
    "MODEL_PATH = './model/alphanum_model_binary_ex_88.h5'\n",
    "mapping_processed = EMNIST_PATH + 'processed-mapping.csv'"
   ]
  },
  {
   "cell_type": "code",
   "execution_count": 34,
   "metadata": {
    "scrolled": true
   },
   "outputs": [
    {
     "data": {
      "image/png": "[encoded data removed]",
      "text/plain": [
       "<Figure size 432x288 with 1 Axes>"
      ]
     },
     "metadata": {
      "needs_background": "light"
     },
     "output_type": "display_data"
    }
   ],
   "source": [
    "#Reading and displaying the original image\n",
    "\n",
    "img = Image.open(INPUT_IMAGE)                                       #Reads image\n",
    "plt.figtext(.5,.7,'Original image', fontsize=25, ha='center')\n",
    "plt.imshow(img)                                                     #Prints image\n",
    "img.close()"
   ]
  },
  {
   "cell_type": "code",
   "execution_count": 35,
   "metadata": {},
   "outputs": [],
   "source": [
    "#----------------Over ride FIX----------------#\n",
    "\n",
    "directory = \"segmented\"   \n",
    "\n",
    "parent_dir = \".\"     \n",
    "shutil.rmtree('./segmented/')                       #Deletes the folder if existing files are present.\n",
    "    \n",
    "path = os.path.join(parent_dir, directory) \n",
    "os.makedirs(path)                                   #Makes a folder to save images"
   ]
  },
  {
   "cell_type": "markdown",
   "metadata": {},
   "source": [
    "## Character Segmentation"
   ]
  },
  {
   "cell_type": "code",
   "execution_count": 7,
   "metadata": {},
   "outputs": [],
   "source": [
    "OUTPUT_DIR = './segmented/'                       #Output directory\n",
    "#------------------Functions------------------#\n",
    "\n",
    "def line_array(array):\n",
    "    list_x_upper = []\n",
    "    list_x_lower = []\n",
    "    for y in range(5, len(array) - 5):\n",
    "        s_a, s_p = strtline(y, array)\n",
    "        e_a, e_p = endline(y, array)\n",
    "        if s_a >= 7 and s_p >= 5:\n",
    "            list_x_upper.append(y)\n",
    "            # print(\"list_x_upper\",list_x_upper)\n",
    "        if e_a >= 5 and e_p >= 7:\n",
    "            list_x_lower.append(y)\n",
    "\n",
    "    return list_x_upper, list_x_lower\n",
    "\n",
    "\n",
    "def strtline(y, array):\n",
    "    count_ahead = 0\n",
    "    count_prev = 0\n",
    "    for i in array[y:y+10]:\n",
    "        if i > 3:\n",
    "            count_ahead += 1\n",
    "  \n",
    "    for i in array[y-10:y]:\n",
    "        if i==0:\n",
    "            count_prev += 1 \n",
    " \n",
    "    return count_ahead, count_prev\n",
    "\n",
    "def endline(y, array):\n",
    "    count_ahead = 0\n",
    "    count_prev = 0\n",
    "    for i in array[y:y+10]:\n",
    "        if i==0:\n",
    "            count_ahead += 1\n",
    "  \n",
    "    for i in array[y-10:y]:\n",
    "        if i > 3:\n",
    "            count_prev += 1\n",
    "  \n",
    "    return count_ahead, count_prev\n",
    "\n",
    "def endline_word(y, array, a):\n",
    "    count_ahead = 0\n",
    "    count_prev = 0\n",
    "    for i in array[y:y+2*a]:\n",
    "        if i < 2:\n",
    "            count_ahead+= 1  \n",
    "    for i in array[y-a:y]:\n",
    "        if i > 2:\n",
    "            count_prev += 1  \n",
    "    return count_prev ,count_ahead\n",
    "\n",
    "def end_line_array(array, a):\n",
    "    list_endlines = []\n",
    "    for y in range(len(array)):\n",
    "        e_p, e_a = endline_word(y, array, a)\n",
    "        # print(e_p, e_a)\n",
    "        if e_a >= int(1.5*a) and e_p >= int(0.7*a):\n",
    "            list_endlines.append(y)\n",
    "    return list_endlines\n",
    "\n",
    "def refine_endword(array):\n",
    "    refine_list = []\n",
    "    for y in range(len(array)-1):\n",
    "        if array[y]+1 < array[y+1]:\n",
    "            refine_list.append(array[y])\n",
    "\n",
    "    if len(array) != 0:\n",
    "        refine_list.append(array[-1])\n",
    "    return refine_list\n",
    "\n",
    "def conversion(parsed_str, ratio):\n",
    "    for i in range(len(parsed_str)):\n",
    "        if parsed_str[i] == 't':\n",
    "            parsed_str[i] = '+'\n",
    "    for i in range(len(list)):\n",
    "         if ratio[i] > 5:\n",
    "            parsed_str[i] = '1'\n",
    "\n",
    "def refine_array(array_upper, array_lower):\n",
    "    upperlines = []\n",
    "    lowerlines = []\n",
    "    for y in range(len(array_upper)-1):\n",
    "        if array_upper[y] + 5 < array_upper[y+1]:\n",
    "            upperlines.append(array_upper[y]-10)\n",
    "    for y in range(len(array_lower)-1):\n",
    "        if array_lower[y] + 5 < array_lower[y+1]:\n",
    "            lowerlines.append(array_lower[y]+10)\n",
    "\n",
    "    upperlines.append(array_upper[-1]-10)\n",
    "    lowerlines.append(array_lower[-1]+10)\n",
    "\n",
    "    return upperlines, lowerlines\n",
    "\n",
    "def makearray(code2char):\n",
    "    global parsed_str\n",
    "    parsed_str = []\n",
    "    for r in results:\n",
    "        parsed_str += code2char[r] \n",
    "\n",
    "\n",
    "def add_par(parsed_str,list):\n",
    "    list.insert((len(list) + 1), 'F')\n",
    "    ab = 1\n",
    "    for i in range(len(parsed_str)):\n",
    "        if list[i+1] != list[i]:\n",
    "            if list[i+1] == \"T\":\n",
    "                parsed_str.insert(i + ab, \"(\")\n",
    "                ab += 1\n",
    "            else:\n",
    "                parsed_str.insert(i + ab, \")\")\n",
    "                ab += 1\n",
    "            \n",
    "def add_exponent(parsed_str):\n",
    "    global sq\n",
    "    sq = []\n",
    "\n",
    "    for i in range(len(parsed_str)):\n",
    "        if parsed_str[i] == \"(\":\n",
    "            sq.append(\"T\")\n",
    "        else:\n",
    "            sq.append(\"F\")\n",
    "    ii = 0\n",
    "    for i in range(len(sq)):         #Adding the square sign before the exponent\n",
    "        if sq[i] == \"T\":\n",
    "            parsed_str.insert(i+ii, \"^\")\n",
    "            ii += 1\n",
    "        \n",
    "\n",
    "def slanted(parsed_str,letter):\n",
    "    conversion(parsed_str, ratio)\n",
    "    if (letter[0][1] - letter[size-1][1]) > 100:       #If equation is not in a straight line, exponent will not be detected\n",
    "        print(\"#----------------------------------------#\")\n",
    "        print(\"   Image too slanted to detect squares  \")\n",
    "        print(\"#----------------------------------------#\")\n",
    "        \n",
    "def exponent_area_filter(maxarea, area):\n",
    "    #----------------Exponent Detection----------------#    \n",
    "    #2 layers of filteration are used. 1st layer detects squares by comparing area with base character and 2nd layer compares\n",
    "    #y axis coordinate with base characters coordinate. If both conditions are met, square is confirmed.\n",
    "    global perc, perca, list\n",
    "    perca = []\n",
    "    for i in range(size):\n",
    "        perc = round(((maxarea - area[i]) / maxarea) * 100)\n",
    "        perca.append(perc)                                 #Calculates percentage difference of each character with base character\n",
    "    list = []\n",
    "\n",
    "    for i in range(len(perca)):\n",
    "        if perca[i] > 65: \n",
    "            list.insert(i,\"T\")                            #Creates a list identifying potential squares by comparing area.\n",
    "        else :                                            #Potential exponents are True and other characters are False\n",
    "            list.insert(i, \"F\")\n",
    "            \n",
    "def exponent_height_filter(letter,list):\n",
    "    maxy = letter[maxindex][1] + letter[maxindex][3]                #Calculates y axis coordinate of base character\n",
    "\n",
    "    for i in range(len(list)):\n",
    "        if list[i] == 'T':\n",
    "            diff = round(((maxy - (letter[i][1] + letter[i][3])) / maxy) * 100)    #calculates percentage difference through y axis\n",
    "            if diff < 50:                    \n",
    "                list[i] = 'F'\n",
    "   \n",
    "        \n",
    "def calcarea(segmented_images):\n",
    "    global area, ratio\n",
    "    area = []\n",
    "    ratio = []\n",
    "    for i in range(size):\n",
    "        h, w = segmented_images[i].size\n",
    "        a = h*w\n",
    "        rat = round(w/h)\n",
    "        ratio.append(rat)\n",
    "        area.append(a) \n",
    "        \n",
    "def Final(parsed_str):\n",
    "    global output\n",
    "    output = ''\n",
    "    for i in range(len(parsed_str)):\n",
    "        output += parsed_str[i]              #Converts array to string\n",
    "    print(\"Result : \", output)\n",
    "    \n",
    "def CallModel()\n",
    "\n",
    "def letter_width(contours):\n",
    "    letter_width_sum = 0\n",
    "    count = 0\n",
    "    for cnt in contours:\n",
    "        if cv2.contourArea(cnt) > 20:\n",
    "            x,y,w,h = cv2.boundingRect(cnt)\n",
    "            letter_width_sum += w\n",
    "            count += 1\n",
    "\n",
    "    return letter_width_sum/count\n",
    "\n",
    "\n",
    "def end_wrd_dtct(lines, i, bin_img, mean_lttr_width, total_width):\n",
    "    count_y = np.zeros(shape = total_width)\n",
    "    kernel = cv2.getStructuringElement(cv2.MORPH_ELLIPSE, (3, 3))              #CHANGES\n",
    "    final_thr = cv2.morphologyEx(bin_img, cv2.MORPH_CLOSE, kernel)\n",
    "    for x in range(total_width):\n",
    "        for y in range(lines[i][0],lines[i][1]):\n",
    "            if bin_img[y][x] == 255:\n",
    "                count_y[x] += 1\n",
    "                \n",
    "    end_lines = end_line_array(count_y, int(mean_lttr_width))\n",
    "    endlines = refine_endword(end_lines)\n",
    "    for x in endlines:\n",
    "        final_thr[lines[i][0]:lines[i][1], x] = 255\n",
    "\n",
    "    return endlines\n",
    "\n",
    "def get_letter_rect(k, contours):             # Helper function for properly identifying '=' symbol.\n",
    "                                              # Initially it treats 2 dashes of 'sign' as separate contours, thus this\n",
    "                                              # will help to identify and merge them into a single '=' contour                                              \n",
    "\n",
    "    valid = True\n",
    "    x,y,w,h = cv2.boundingRect(contours[k])\n",
    "    for i in range(len(contours)):\n",
    "        cnt = contours[i]\n",
    "        if i == k:\n",
    "            continue\n",
    "        elif cv2.contourArea(cnt) < 50:\n",
    "            continue\n",
    "\n",
    "        x1,y1,w1,h1 = cv2.boundingRect(cnt)\n",
    "        if abs(x1 + w1/2 - (x + w/2)) < 50:\n",
    "            if y1 > y:\n",
    "                h = abs(y - (y1 + h1))\n",
    "                w = abs(x - (x1 + w1))\n",
    "            else:\n",
    "                valid = False\n",
    "            break\n",
    "\n",
    "    return (valid,x,y,w,h)\n",
    "\n",
    "\n",
    "def letter_seg(lines_img, x_lines, i):\n",
    "    copy_img = lines_img[i].copy()\n",
    "    x_linescopy = x_lines[i].copy()\n",
    "    letter_img = []\n",
    "    letter_k = []\n",
    "\n",
    "    contours, hierarchy = cv2.findContours(copy_img,cv2.RETR_EXTERNAL,cv2.CHAIN_APPROX_SIMPLE)\n",
    "    for k in range(len(contours)):\n",
    "        cnt = contours[k]\n",
    "        if cv2.contourArea(cnt) < 50:\n",
    "            continue\n",
    "        valid,x,y,w,h = get_letter_rect(k, contours)\n",
    "        if valid:\n",
    "            letter_k.append((x,y,w,h))\n",
    "\n",
    "\n",
    "    global letter \n",
    "    letter = sorted(letter_k, key=lambda student: student[0])\n",
    "    word = 1\n",
    "    letter_index = 0\n",
    "    a = 0    \n",
    "    for e in range(len(letter)):\n",
    "        if(letter[e][0]<x_linescopy[0]):\n",
    "            letter_index += 1\n",
    "            if letter_index > 9:    #To keep segmented images in ascending order. Limit = 81 images\n",
    "                a += 1\n",
    "                letter_index = 0\n",
    "                letter_index += 1\n",
    "            letter_img_tmp = lines_img[i][letter[e][1]-5:letter[e][1]+letter[e][3]+5,letter[e][0]-5:letter[e][0]+letter[e][2]+5]\n",
    "            letter_img = letter_img_tmp\n",
    "            cv2.imwrite(OUTPUT_DIR+str(a+1)+'_'+str(word)+'_'+str(letter_index)+'.jpg', 255-letter_img)\n",
    "\n",
    "        else:                       #If image width is less than 1320, we will resize.\n",
    "            x_linescopy.pop(0)\n",
    "            word += 1\n",
    "            letter_index = 1\n",
    "            if letter_index > 9:    #To keep segmented images in ascending order. Limit = 81 images\n",
    "                a += 1\n",
    "                letter_index = 0\n",
    "                letter_index += 1\n",
    "            letter_img_tmp = lines_img[i][letter[e][1]-5:letter[e][1]+letter[e][3]+5,letter[e][0]-5:letter[e][0]+letter[e][2]+5]\n",
    "#                 letter_img = cv2.resize(letter_img_tmp, dsize =(28, 28), interpolation = cv2.INTER_AREA)\n",
    "            letter_img = letter_img_tmp\n",
    "            cv2.imwrite(OUTPUT_DIR+str(a+1)+'_'+str(word)+'_'+str(letter_index)+'.jpg', 255-letter_img)\n",
    "\n",
    "#------------------/Functions-----------------#\n",
    "\n",
    "def image_segmentation(filepath):\n",
    "    # -------------Thresholding Image--------------#\n",
    "    print(\"\\n........Program Initiated.......\\n\")\n",
    "    src_img = cv2.imread(filepath, cv2.IMREAD_GRAYSCALE)\n",
    "    orig_height, orig_width = src_img.shape\n",
    "\n",
    "    print(\"\\n Resizing Image........\")\n",
    "    width = 1320\n",
    "    height = int(width * orig_height / orig_width)\n",
    "    src_img = cv2.resize(src_img, dsize=(width, height), interpolation=cv2.INTER_AREA)\n",
    "\n",
    "    print(\"#---------Image Info:--------#\")\n",
    "    print(\"\\tHeight =\", height, \"\\n\\tWidth =\", width)\n",
    "    print(\"#----------------------------#\")\n",
    "    print(\"Applying Adaptive Threshold with kernel :- 21 X 21\")\n",
    "\n",
    "    PIXEL_SET = 255\n",
    "    kernel_size = 21\n",
    "    normalized_mean = 20\n",
    "    bin_img = cv2.adaptiveThreshold(src_img, PIXEL_SET, cv2.ADAPTIVE_THRESH_MEAN_C, cv2.THRESH_BINARY_INV, kernel_size,\n",
    "                                    normalized_mean)\n",
    "\n",
    "    print(\"Noise Removal From Image.........\")\n",
    "    kernel = cv2.getStructuringElement(cv2.MORPH_ELLIPSE, (3, 3))\n",
    "    final_thr = cv2.morphologyEx(bin_img, cv2.MORPH_CLOSE, kernel)\n",
    "    contr_retrival = final_thr.copy()\n",
    "\n",
    "    # -------------/Thresholding Image-------------#\n",
    "\n",
    "    # -------------Line Detection------------------#\n",
    "    print(\"Beginning Character Segmenation..............\")\n",
    "    count_x = np.zeros(shape=(height))\n",
    "    for y in range(height):\n",
    "        for x in range(width):\n",
    "            if bin_img[y][x] == PIXEL_SET:\n",
    "                count_x[y] += 1\n",
    "\n",
    "    upper_lines, lower_lines = line_array(count_x)\n",
    "    upperlines, lowerlines = refine_array(upper_lines, lower_lines)\n",
    "\n",
    "    if len(upperlines) == len(lowerlines):\n",
    "        lines = []\n",
    "        for y in upperlines:\n",
    "            kernel = cv2.getStructuringElement(cv2.MORPH_ELLIPSE, (3, 3))              #CHANGES\n",
    "            final_thr[y][:] = PIXEL_SET\n",
    "        for y in lowerlines:\n",
    "            kernel = cv2.getStructuringElement(cv2.MORPH_ELLIPSE, (3, 3))              #CHANGES\n",
    "            final_thr[y][:] = PIXEL_SET\n",
    "        for y in range(len(upperlines)):\n",
    "            lines.append((upperlines[y], lowerlines[y]))\n",
    "    else:\n",
    "        print(\"Too much noise in image, unable to process.\\nPlease try with another image.\")\n",
    "        showimages()\n",
    "        k = cv2.waitKey(0)\n",
    "        while 1:\n",
    "            k = cv2.waitKey(0)\n",
    "            if k & 0xFF == ord('q'):\n",
    "                cv2.destroyAllWindows()\n",
    "                exit()\n",
    "\n",
    "    lines = np.array(lines)\n",
    "    no_of_lines = len(lines)\n",
    "    print(\"\\nGiven Text has \", no_of_lines, \" no. of lines\")\n",
    "\n",
    "    lines_img = []\n",
    "    for i in range(no_of_lines):\n",
    "        lines_img.append(bin_img[lines[i][0]:lines[i][1], :])\n",
    "\n",
    "    # -------------/Line Detection-----------------#\n",
    "\n",
    "    # -------------Letter Width Calculation--------#\n",
    "\n",
    "    contours, hierarchy = cv2.findContours(contr_retrival, cv2.RETR_EXTERNAL, cv2.CHAIN_APPROX_SIMPLE)\n",
    "    cv2.drawContours(src_img, contours, -1, (0, 255, 0), 1)\n",
    "\n",
    "    mean_lttr_width = letter_width(contours)\n",
    "    print(\"\\nAverage Width of Each Letter : \", mean_lttr_width)\n",
    "\n",
    "    # -------------/Letter Width Calculation-------#\n",
    "\n",
    "    # --------------Word Detection-----------------#\n",
    "    x_lines = []\n",
    "\n",
    "    for i in range(len(lines_img)):\n",
    "        x_lines.append(end_wrd_dtct(lines, i, bin_img, mean_lttr_width, width))\n",
    "\n",
    "    for i in range(len(x_lines)):\n",
    "        x_lines[i].append(width)\n",
    "\n",
    "    # -------------/Word Detection-----------------#\n",
    "\n",
    "    # -------------Letter Segmentation-------------#\n",
    "\n",
    "    for i in range(len(lines)):\n",
    "        letter_seg(lines_img, x_lines, i)\n",
    "\n",
    "    # ------------\\Letter Segmentation-------------#\n",
    "\n",
    "    # -------------Character segmenting------------#\n",
    "\n",
    "    contours, hierarchy = cv2.findContours(bin_img, cv2.RETR_EXTERNAL, cv2.CHAIN_APPROX_SIMPLE)\n",
    "\n",
    "    for cnt in contours:\n",
    "        if cv2.contourArea(cnt) > 20:\n",
    "            x, y, w, h = cv2.boundingRect(cnt)\n",
    "            cv2.rectangle(src_img, (x, y), (x + w, y + h), (0, 255, 0), 2)\n",
    "# plt.imshow(src_img)\n",
    "# plt.scatter(x,y+h)\n",
    "            \n",
    "    # -------------/Character segmenting-----------#"
   ]
  },
  {
   "cell_type": "code",
   "execution_count": 8,
   "metadata": {
    "scrolled": false
   },
   "outputs": [
    {
     "name": "stdout",
     "output_type": "stream",
     "text": [
      "\n",
      "........Program Initiated.......\n",
      "\n",
      "\n",
      " Resizing Image........\n",
      "#---------Image Info:--------#\n",
      "\tHeight = 255 \n",
      "\tWidth = 1320\n",
      "#----------------------------#\n",
      "Applying Adaptive Threshold with kernel :- 21 X 21\n",
      "Noise Removal From Image.........\n",
      "Beginning Character Segmenation..............\n",
      "\n",
      "Given Text has  1  no. of lines\n",
      "\n",
      "Average Width of Each Letter :  62.666666666666664\n"
     ]
    }
   ],
   "source": [
    "image_segmentation(INPUT_IMAGE)"
   ]
  },
  {
   "cell_type": "code",
   "execution_count": 9,
   "metadata": {},
   "outputs": [],
   "source": [
    "segmented_images = []\n",
    "files = [f for r, d, f in os.walk(SEGMENTED_OUTPUT_DIR)][0]             #Used to access the root of image\n",
    "for f in files:\n",
    "    segmented_images.append(Image.open(SEGMENTED_OUTPUT_DIR + f))       #Saves segmented images"
   ]
  },
  {
   "cell_type": "code",
   "execution_count": 10,
   "metadata": {
    "scrolled": false
   },
   "outputs": [
    {
     "name": "stdout",
     "output_type": "stream",
     "text": [
      "Total images =  11\n"
     ]
    },
    {
     "data": {
      "image/png": "[encoded data removed]",
      "text/plain": [
       "<Figure size 1296x1296 with 11 Axes>"
      ]
     },
     "metadata": {
      "needs_background": "light"
     },
     "output_type": "display_data"
    }
   ],
   "source": [
    "figure(figsize=(18,18))\n",
    "\n",
    "size = len(segmented_images)\n",
    "print(\"Total images = \", size)\n",
    "i = 0\n",
    "for i in range(size):\n",
    "    img = segmented_images[i]\n",
    "    plt.subplot(2, size, i + 1)                       #Plots segmented images \n",
    "    plt.title(i+1)\n",
    "    plt.imshow(img)"
   ]
  },
  {
   "cell_type": "markdown",
   "metadata": {},
   "source": [
    "## Converting Segmented Characters to EMNIST format"
   ]
  },
  {
   "cell_type": "code",
   "execution_count": 11,
   "metadata": {},
   "outputs": [],
   "source": [
    "def img2emnist(filepath, char_code):\n",
    "    img = Image.open(filepath).resize((28, 28))\n",
    "    inv_img = ImageOps.invert(img)\n",
    "    \n",
    "    flatten = np.array(inv_img).flatten()\n",
    "    flatten = flatten / 255.0\n",
    "    flatten = np.where(flatten > 0.5, 1, 0)\n",
    "    \n",
    "    csv_img = ','.join([str(num) for num in flatten])\n",
    "    csv_str = '{},{}'.format(char_code, csv_img)\n",
    "    return csv_str"
   ]
  },
  {
   "cell_type": "code",
   "execution_count": 12,
   "metadata": {},
   "outputs": [],
   "source": [
    "temp_filename = 'test.csv'\n",
    "if os.path.exists(temp_filename):\n",
    "    os.remove(temp_filename)\n",
    "\n",
    "f_test = open(temp_filename, 'a+')\n",
    "column_names = ','.join([\"label\"] + [\"pixel\" + str(i) for i in range(784)])\n",
    "print(column_names, file=f_test)\n",
    "\n",
    "files = [f for r, d, f in os.walk(SEGMENTED_OUTPUT_DIR)][0]\n",
    "for f in files:\n",
    "    csv = img2emnist(SEGMENTED_OUTPUT_DIR + f, -1)\n",
    "    print(csv, file=f_test)\n",
    "    \n",
    "f_test.close()"
   ]
  },
  {
   "cell_type": "code",
   "execution_count": 13,
   "metadata": {},
   "outputs": [],
   "source": [
    "test_df = pd.read_csv(temp_filename)"
   ]
  },
  {
   "cell_type": "markdown",
   "metadata": {},
   "source": [
    "## Character Recognition"
   ]
  },
  {
   "cell_type": "code",
   "execution_count": 14,
   "metadata": {},
   "outputs": [],
   "source": [
    "data = pd.read_csv(temp_filename)\n",
    "X_data = data.drop(labels = [\"label\"], axis = 1)\n",
    "X_data = X_data.values.reshape(-1,28,28,1)"
   ]
  },
  {
   "cell_type": "code",
   "execution_count": 15,
   "metadata": {},
   "outputs": [
    {
     "data": {
      "image/png": "[encoded data removed]",
      "text/plain": [
       "<Figure size 1008x1008 with 11 Axes>"
      ]
     },
     "metadata": {
      "needs_background": "light"
     },
     "output_type": "display_data"
    }
   ],
   "source": [
    "figure(figsize=(14,14))\n",
    "\n",
    "size = X_data.shape[0]\n",
    "for i in range(size):\n",
    "    v = X_data[i][:,:,0].astype('uint8')\n",
    "    img = Image.fromarray(255* v)\n",
    "    \n",
    "    plt.subplot(2, size, i + 1)\n",
    "    plt.tight_layout(pad = 0)\n",
    "    plt.imshow(img)"
   ]
  },
  {
   "cell_type": "code",
   "execution_count": 16,
   "metadata": {},
   "outputs": [],
   "source": [
    "df = pd.read_csv(mapping_processed)\n",
    "code2char = {}\n",
    "for index, row in df.iterrows():\n",
    "    code2char[row['id']] = row['char']"
   ]
  },
  {
   "cell_type": "code",
   "execution_count": 17,
   "metadata": {
    "scrolled": true
   },
   "outputs": [],
   "source": [
    "model = load_model(MODEL_PATH)                               #Loads the model"
   ]
  },
  {
   "cell_type": "markdown",
   "metadata": {},
   "source": [
    "# Detecting exponent in function"
   ]
  },
  {
   "cell_type": "code",
   "execution_count": 20,
   "metadata": {},
   "outputs": [
    {
     "name": "stdout",
     "output_type": "stream",
     "text": [
      "Square filter 1:  ['F', 'T', 'F', 'T', 'F', 'F', 'T', 'T', 'F', 'F', 'T']\n",
      "Square filter 2:  ['F', 'T', 'F', 'F', 'F', 'F', 'T', 'F', 'F', 'F', 'T']\n"
     ]
    }
   ],
   "source": [
    "calcarea(segmented_images)                                   #Calculates the Area of individual images\n",
    "\n",
    "maxindex = np.argmax(area)\n",
    "maxarea = area[maxindex]                                     #Calculates maximum area which is base character\n",
    "\n",
    "exponent_area_filter(maxarea, area)                          #Any image 65% smaller to base chaacter is square positive\n",
    "print(\"Square filter 1: \", list)                             #Prints 1st filter layer of square detection\n",
    "\n",
    "exponent_height_filter(letter,list)                          #Any small image 50% higher of base character is square positive\n",
    "print(\"Square filter 2: \", list)                             #Prints 2nd filter layer of square detection          "
   ]
  },
  {
   "cell_type": "code",
   "execution_count": 21,
   "metadata": {
    "scrolled": true
   },
   "outputs": [
    {
     "name": "stdout",
     "output_type": "stream",
     "text": [
      "Original :  ['5', '2', 't', '7', '4', 'Y', '2', '=', '7', 'X', '2']\n",
      "Result :  5^(2)+14Y^(2)=7X^(2)\n"
     ]
    }
   ],
   "source": [
    "results = model.predict(X_data)                              # predict results\n",
    "results = np.argmax(results, axis = 1)                       # select the index with the maximum probability\n",
    "\n",
    "makearray(code2char)\n",
    "slanted(parsed_str,letter)\n",
    "add_par(parsed_str,list)\n",
    "add_exponent(parsed_str)\n",
    "Final(parsed_str)"
   ]
  },
  {
   "cell_type": "code",
   "execution_count": null,
   "metadata": {},
   "outputs": [],
   "source": []
  }
 ],
 "metadata": {
  "kernelspec": {
   "display_name": "Python 3",
   "language": "python",
   "name": "python3"
  },
  "language_info": {
   "codemirror_mode": {
    "name": "ipython",
    "version": 3
   },
   "file_extension": ".py",
   "mimetype": "text/x-python",
   "name": "python",
   "nbconvert_exporter": "python",
   "pygments_lexer": "ipython3",
   "version": "3.8.5"
  }
 },
 "nbformat": 4,
 "nbformat_minor": 2
}
